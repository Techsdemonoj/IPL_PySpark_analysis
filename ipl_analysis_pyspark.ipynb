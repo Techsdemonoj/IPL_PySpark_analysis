{
 "cells": [
  {
   "cell_type": "markdown",
   "id": "e81bf492-e8a6-4e9d-92d4-b9645091fc12",
   "metadata": {},
   "source": [
    "# <p style=\"text-align: center;\">🏏 IPL Analysis using PySpark 🏏</p>\n"
   ]
  },
  {
   "cell_type": "code",
   "execution_count": 1,
   "id": "0825fd64-aad9-48f5-b945-cfa4f916d70f",
   "metadata": {},
   "outputs": [],
   "source": [
    "import findspark\n",
    "findspark.init()"
   ]
  },
  {
   "cell_type": "code",
   "execution_count": 2,
   "id": "a3de4a43-980f-40d5-86eb-e977d9642519",
   "metadata": {},
   "outputs": [
    {
     "name": "stdout",
     "output_type": "stream",
     "text": [
      "3.5.4\n"
     ]
    }
   ],
   "source": [
    "from pyspark.sql import SparkSession\n",
    "spark = SparkSession.builder.appName(\"Checkversion\").getOrCreate()\n",
    "print(spark.version)"
   ]
  },
  {
   "cell_type": "markdown",
   "id": "2c16c425-c3ec-49e7-9d79-650acce10d5c",
   "metadata": {},
   "source": [
    "####🏏 IPL Dataset Analysis Questions\n",
    "* 1️⃣ Total Matches Played per Season\n",
    "* 2️⃣ Total Matches Played in Each City\n",
    "* 3️⃣ Most Successful Teams (by Wins)\n",
    "* 4️⃣ Toss Decisions Breakdown (Bat/Field)\n",
    "* 5️⃣ Most Toss Wins by a Team\n",
    "* 6️⃣ Matches Won by Toss-Winning Teams\n",
    "* 7️⃣ Teams Winning After Batting First vs Chasing\n",
    "* 8️⃣ Biggest Win by Runs in IPL History\n",
    "* 9️⃣ Highest Successful Run Chases\n",
    "* 🔟 Most Player of the Match Awards (Top 10)\n",
    "* 1️⃣1️⃣ Most Matches Played in a Venue\n",
    "* 1️⃣2️⃣ Number of Matches with Super Over\n",
    "* 1️⃣3️⃣ Top Umpires Who Officiated the Most Matches\n",
    "* 1️⃣4️⃣ Players Who Scored Most Runs in IPL (Top 10)\n",
    "* 1️⃣5️⃣ Bowlers with Most Wickets in IPL (Top 10)\n",
    "* 1️⃣6️⃣ Batsmen with the Highest Strike Rate (Min 500 Balls)\n",
    "* 1️⃣7️⃣ Batsmen with Most Sixes in IPL\n",
    "* 1️⃣8️⃣ Bowlers with Best Economy Rates (Min 100 Overs)\n",
    "* 1️⃣9️⃣ Total Extra Runs Conceded by Each Team\n",
    "* 2️⃣0️⃣ Most Common Modes of Dismissal in IPL\n",
    "\n"
   ]
  },
  {
   "cell_type": "markdown",
   "id": "0f2f7ca6-a10c-4ab1-8c9f-486ab860d62c",
   "metadata": {},
   "source": [
    "#### DownLoad  IPL datasets in from Kgglehub  import kagglehub library"
   ]
  },
  {
   "cell_type": "markdown",
   "id": "152af973-5015-4913-9122-d6e4f9f962b9",
   "metadata": {},
   "source": [
    "* import kagglehub\n",
    "\n",
    "##### Download latest version\n",
    "* path = kagglehub.dataset_download(\"patrickb1912/ipl-complete-dataset-20082020\")\n",
    "\n",
    "* print(\"Path to dataset files:\", path)"
   ]
  },
  {
   "cell_type": "code",
   "execution_count": 3,
   "id": "ca3e221b-7dd7-4207-986f-d63349d9f06b",
   "metadata": {},
   "outputs": [
    {
     "name": "stdout",
     "output_type": "stream",
     "text": [
      "Files in dataset: ['deliveries.csv', 'matches.csv']\n"
     ]
    }
   ],
   "source": [
    "import os\n",
    "\n",
    "dataset_path = r\"C:\\Users\\Monoj Das\\.cache\\kagglehub\\datasets\\patrickb1912\\ipl-complete-dataset-20082020\\versions\\3\"\n",
    "\n",
    "# List files\n",
    "files = os.listdir(dataset_path)\n",
    "print(\"Files in dataset:\", files)\n"
   ]
  },
  {
   "cell_type": "markdown",
   "id": "521c0e78-4a55-446d-84c8-d5790b8b0d56",
   "metadata": {},
   "source": [
    "#### 📁Taking data from local datapath"
   ]
  },
  {
   "cell_type": "code",
   "execution_count": 4,
   "id": "a927154a-58fb-4c93-8624-690fcdbc850a",
   "metadata": {},
   "outputs": [],
   "source": [
    "from pyspark.sql import SparkSession\n",
    "# Create a spark session \n",
    "spark = SparkSession.builder.appName(\"IPL analysis\").getOrCreate()\n",
    "# Define the path\n",
    "dataset_path = r\"C:\\Users\\Monoj Das\\.cache\\kagglehub\\datasets\\patrickb1912\\ipl-complete-dataset-20082020\\versions\\3\" \n"
   ]
  },
  {
   "cell_type": "markdown",
   "id": "824873c1-5e69-4407-af72-6681e5127423",
   "metadata": {},
   "source": [
    "#### importing all library from our analysis "
   ]
  },
  {
   "cell_type": "code",
   "execution_count": 5,
   "id": "fa1abb39-6f7d-45fc-accc-2f252495c0ee",
   "metadata": {},
   "outputs": [],
   "source": [
    "import numpy as np \n",
    "import pandas as pd \n",
    "import matplotlib.pyplot as plt\n"
   ]
  },
  {
   "cell_type": "markdown",
   "id": "c3b90a69-b03b-4be0-acd5-ed223511801f",
   "metadata": {},
   "source": [
    "####  🛢️Now read the dataset from dataset_path as name of df_match  and d_deliveries  in spark"
   ]
  },
  {
   "cell_type": "code",
   "execution_count": 6,
   "id": "e8c03fcd-dbfd-4add-8219-4f0bf22c19fe",
   "metadata": {},
   "outputs": [
    {
     "name": "stdout",
     "output_type": "stream",
     "text": [
      "Match data: \n",
      "+------+-------+----------+----------+----------+---------------+--------------------+--------------------+--------------------+--------------------+-------------+--------------------+------+-------------+-----------+------------+----------+------+---------+-----------+\n",
      "|    id| season|      city|      date|match_type|player_of_match|               venue|               team1|               team2|         toss_winner|toss_decision|              winner|result|result_margin|target_runs|target_overs|super_over|method|  umpire1|    umpire2|\n",
      "+------+-------+----------+----------+----------+---------------+--------------------+--------------------+--------------------+--------------------+-------------+--------------------+------+-------------+-----------+------------+----------+------+---------+-----------+\n",
      "|335982|2007/08| Bangalore|18-04-2008|    League|    BB McCullum|M Chinnaswamy Sta...|Royal Challengers...|Kolkata Knight Ri...|Royal Challengers...|        field|Kolkata Knight Ri...|  runs|          140|        223|          20|         N|    NA|Asad Rauf|RE Koertzen|\n",
      "|335983|2007/08|Chandigarh|19-04-2008|    League|     MEK Hussey|Punjab Cricket As...|     Kings XI Punjab| Chennai Super Kings| Chennai Super Kings|          bat| Chennai Super Kings|  runs|           33|        241|          20|         N|    NA|MR Benson| SL Shastri|\n",
      "+------+-------+----------+----------+----------+---------------+--------------------+--------------------+--------------------+--------------------+-------------+--------------------+------+-------------+-----------+------------+----------+------+---------+-----------+\n",
      "only showing top 2 rows\n",
      "\n",
      "Deliveries data: \n",
      "+--------+------+--------------------+--------------------+----+----+-----------+-------+-----------+------------+----------+----------+-----------+---------+----------------+--------------+-------+\n",
      "|match_id|inning|        batting_team|        bowling_team|over|ball|     batter| bowler|non_striker|batsman_runs|extra_runs|total_runs|extras_type|is_wicket|player_dismissed|dismissal_kind|fielder|\n",
      "+--------+------+--------------------+--------------------+----+----+-----------+-------+-----------+------------+----------+----------+-----------+---------+----------------+--------------+-------+\n",
      "|  335982|     1|Kolkata Knight Ri...|Royal Challengers...|   0|   1| SC Ganguly|P Kumar|BB McCullum|           0|         1|         1|    legbyes|        0|              NA|            NA|     NA|\n",
      "|  335982|     1|Kolkata Knight Ri...|Royal Challengers...|   0|   2|BB McCullum|P Kumar| SC Ganguly|           0|         0|         0|       NULL|        0|              NA|            NA|     NA|\n",
      "+--------+------+--------------------+--------------------+----+----+-----------+-------+-----------+------------+----------+----------+-----------+---------+----------------+--------------+-------+\n",
      "only showing top 2 rows\n",
      "\n"
     ]
    }
   ],
   "source": [
    "df_match = spark.read.csv(f\"{dataset_path}/matches.csv\", header=True, inferSchema=True)\n",
    "df_deliveries = spark.read.csv(f\"{dataset_path}/deliveries.csv\", header= True, inferSchema = True)\n",
    "\n",
    "# see the data  for matches data\n",
    "print(\"Match data: \")\n",
    "df_match.show(2)\n",
    "\n",
    "# see the data  for deliveries data\n",
    "print(\"Deliveries data: \")\n",
    "df_deliveries.show(2)\n",
    "\n",
    "\n"
   ]
  },
  {
   "cell_type": "markdown",
   "id": "4b165afe-48e8-40c5-abaa-d5f7a3ee8b23",
   "metadata": {},
   "source": [
    "#### ✅ Check If Any Column Has Null Values"
   ]
  },
  {
   "cell_type": "code",
   "execution_count": 7,
   "id": "87628139-def0-4ce3-be5d-086321c4c0d0",
   "metadata": {},
   "outputs": [
    {
     "name": "stdout",
     "output_type": "stream",
     "text": [
      "+---+------+----+----+----------+---------------+-----+-----+-----+-----------+-------------+------+------+-------------+-----------+------------+----------+------+-------+-------+\n",
      "| id|season|city|date|match_type|player_of_match|venue|team1|team2|toss_winner|toss_decision|winner|result|result_margin|target_runs|target_overs|super_over|method|umpire1|umpire2|\n",
      "+---+------+----+----+----------+---------------+-----+-----+-----+-----------+-------------+------+------+-------------+-----------+------------+----------+------+-------+-------+\n",
      "|  0|     0|   0|   0|         0|              0|    0|    0|    0|          0|            0|     0|     0|            0|          0|           0|         0|     0|      0|      0|\n",
      "+---+------+----+----+----------+---------------+-----+-----+-----+-----------+-------------+------+------+-------------+-----------+------------+----------+------+-------+-------+\n",
      "\n"
     ]
    }
   ],
   "source": [
    "from pyspark.sql.functions import  col, when, count\n",
    "df_match.select([count(when(col(c).isNull(),c)).alias(c) for c in df_match.columns]).show()\n"
   ]
  },
  {
   "cell_type": "markdown",
   "id": "2a023555-997a-448d-9b0c-448981d0e497",
   "metadata": {},
   "source": [
    "#### ✅ Count Null Values in Each Column"
   ]
  },
  {
   "cell_type": "code",
   "execution_count": 8,
   "id": "4f8df833-4dee-4669-a3c5-fe6c49d0d998",
   "metadata": {},
   "outputs": [
    {
     "name": "stdout",
     "output_type": "stream",
     "text": [
      "+---+------+----+----+----------+---------------+-----+-----+-----+-----------+-------------+------+------+-------------+-----------+------------+----------+------+-------+-------+\n",
      "| id|season|city|date|match_type|player_of_match|venue|team1|team2|toss_winner|toss_decision|winner|result|result_margin|target_runs|target_overs|super_over|method|umpire1|umpire2|\n",
      "+---+------+----+----+----------+---------------+-----+-----+-----+-----------+-------------+------+------+-------------+-----------+------------+----------+------+-------+-------+\n",
      "|  0|     0|   0|   0|         0|              0|    0|    0|    0|          0|            0|     0|     0|            0|          0|           0|         0|     0|      0|      0|\n",
      "+---+------+----+----+----------+---------------+-----+-----+-----+-----------+-------------+------+------+-------------+-----------+------------+----------+------+-------+-------+\n",
      "\n"
     ]
    }
   ],
   "source": [
    "from pyspark.sql.functions import col, sum, when\n",
    "null_counts = df_match.select([\n",
    "    sum(when(col(c).isNull(),1).otherwise(0)).alias(c) for c in df_match.columns\n",
    "]).show()"
   ]
  },
  {
   "cell_type": "code",
   "execution_count": 9,
   "id": "437b579c-f72d-4cb9-b857-8e8058a1e8f1",
   "metadata": {},
   "outputs": [
    {
     "name": "stdout",
     "output_type": "stream",
     "text": [
      "+---------------------------------+\n",
      "|winner                           |\n",
      "+---------------------------------+\n",
      "|Lucknow Super Giants (LSG)       |\n",
      "|Kolkata Knight Riders (KRR)      |\n",
      "|Royal Challengers Bangalore (RCB)|\n",
      "|NA                               |\n",
      "|Pune Supergiants (PS)            |\n",
      "|Delhi Capitals (DC)              |\n",
      "|Chennai Super Kings (CSK)        |\n",
      "|Gujarat Titans (GT)              |\n",
      "|Sunrisers Hyderabad (SRH)        |\n",
      "|Mumbai Indians (MI)              |\n",
      "|Punjab Kings (PBKS)              |\n",
      "|Kochi Tuskers Kerala (KTK        |\n",
      "|Rajasthan Royals (RR)            |\n",
      "+---------------------------------+\n",
      "\n"
     ]
    }
   ],
   "source": [
    "from pyspark.sql.functions import when\n",
    "\n",
    "# Standardize team names\n",
    "df_match = df_match.withColumn(\n",
    "    \"winner\",\n",
    "    when(col(\"winner\").isin([\"Pune Warriors\", \"Rising Pune Supergiant\", \"Rising Pune Supergiants\"]), \"Pune Supergiants (PS)\")\n",
    "    .when(col(\"winner\").isin([\"Sunrisers Hyderabad\", \"Deccan Chargers\"]), \"Sunrisers Hyderabad (SRH)\")\n",
    "    .when(col(\"winner\").isin([\"Lucknow Super Giants\"]), \"Lucknow Super Giants (LSG)\")\n",
    "    .when(col(\"winner\").isin([\"Kochi Tuskers Kerala\"]), \"Kochi Tuskers Kerala (KTK\")\n",
    "    .when(col(\"winner\").isin([\"Gujarat Titans\", \"Gujarat Lions\"]), \"Gujarat Titans (GT)\")\n",
    "    .when(col(\"winner\").isin([\"Chennai Super Kings\"]), \"Chennai Super Kings (CSK)\")\n",
    "    .when(col(\"winner\").isin([\"Royal Challengers Bengaluru\", \"Royal Challengers Bangalore\" ]), \"Royal Challengers Bangalore (RCB)\")\n",
    "    .when(col(\"winner\").isin([\"Rajasthan Royals\"]), \"Rajasthan Royals (RR)\")\n",
    "    .when(col(\"winner\").isin([\"Kolkata Knight Riders\"]), \"Kolkata Knight Riders (KRR)\")\n",
    "    .when(col(\"winner\").isin([\"Kings XI Punjab\",\"Punjab Kings\"]), \"Punjab Kings (PBKS)\")\n",
    "    .when(col(\"winner\").isin([\"Delhi Daredevils\", \"Delhi Capitals\"]), \"Delhi Capitals (DC)\")\n",
    "    .when(col(\"winner\").isin([\"Mumbai Indians\"]), \"Mumbai Indians (MI)\")\n",
    "    .otherwise(col(\"winner\"))\n",
    ")\n",
    "\n",
    "# Verify the replacement\n",
    "df_match.select(\"winner\").distinct().show(truncate=False)\n"
   ]
  },
  {
   "cell_type": "code",
   "execution_count": 10,
   "id": "3eb24721-9fa7-46b8-915a-482946b382d0",
   "metadata": {},
   "outputs": [
    {
     "name": "stdout",
     "output_type": "stream",
     "text": [
      "match data all schema name list: \n",
      "root\n",
      " |-- id: integer (nullable = true)\n",
      " |-- season: string (nullable = true)\n",
      " |-- city: string (nullable = true)\n",
      " |-- date: string (nullable = true)\n",
      " |-- match_type: string (nullable = true)\n",
      " |-- player_of_match: string (nullable = true)\n",
      " |-- venue: string (nullable = true)\n",
      " |-- team1: string (nullable = true)\n",
      " |-- team2: string (nullable = true)\n",
      " |-- toss_winner: string (nullable = true)\n",
      " |-- toss_decision: string (nullable = true)\n",
      " |-- winner: string (nullable = true)\n",
      " |-- result: string (nullable = true)\n",
      " |-- result_margin: string (nullable = true)\n",
      " |-- target_runs: string (nullable = true)\n",
      " |-- target_overs: string (nullable = true)\n",
      " |-- super_over: string (nullable = true)\n",
      " |-- method: string (nullable = true)\n",
      " |-- umpire1: string (nullable = true)\n",
      " |-- umpire2: string (nullable = true)\n",
      "\n",
      "deliveries data all schema name list: \n",
      "root\n",
      " |-- match_id: integer (nullable = true)\n",
      " |-- inning: integer (nullable = true)\n",
      " |-- batting_team: string (nullable = true)\n",
      " |-- bowling_team: string (nullable = true)\n",
      " |-- over: integer (nullable = true)\n",
      " |-- ball: integer (nullable = true)\n",
      " |-- batter: string (nullable = true)\n",
      " |-- bowler: string (nullable = true)\n",
      " |-- non_striker: string (nullable = true)\n",
      " |-- batsman_runs: integer (nullable = true)\n",
      " |-- extra_runs: integer (nullable = true)\n",
      " |-- total_runs: integer (nullable = true)\n",
      " |-- extras_type: string (nullable = true)\n",
      " |-- is_wicket: integer (nullable = true)\n",
      " |-- player_dismissed: string (nullable = true)\n",
      " |-- dismissal_kind: string (nullable = true)\n",
      " |-- fielder: string (nullable = true)\n",
      "\n"
     ]
    }
   ],
   "source": [
    "# check the all schema  in the dataframe\n",
    "print(\"match data all schema name list: \")\n",
    "df_match.printSchema()\n",
    "\n",
    "print(\"deliveries data all schema name list: \")\n",
    "df_deliveries.printSchema()\n",
    "\n",
    "\n",
    "# we can also use column function to see all column name list\n",
    "# df_match_columns = df_match.columns\n",
    "# df_deliveries_columns  = ddf_deliveries.columns\n"
   ]
  },
  {
   "cell_type": "code",
   "execution_count": 11,
   "id": "6fe5b988-4329-48bd-946d-3d869bb86d25",
   "metadata": {},
   "outputs": [
    {
     "data": {
      "text/plain": [
       "<bound method DataFrame.count of DataFrame[match_id: int, inning: int, batting_team: string, bowling_team: string, over: int, ball: int, batter: string, bowler: string, non_striker: string, batsman_runs: int, extra_runs: int, total_runs: int, extras_type: string, is_wicket: int, player_dismissed: string, dismissal_kind: string, fielder: string]>"
      ]
     },
     "execution_count": 11,
     "metadata": {},
     "output_type": "execute_result"
    }
   ],
   "source": [
    "df_deliveries.count"
   ]
  },
  {
   "cell_type": "code",
   "execution_count": 12,
   "id": "ac5b4718-60ee-4b32-9d0b-a0bd7b306199",
   "metadata": {},
   "outputs": [
    {
     "name": "stdout",
     "output_type": "stream",
     "text": [
      "Total Matches Played: 1095\n",
      "Total Balls Bowled: 260920\n"
     ]
    }
   ],
   "source": [
    "# Total Matches\n",
    "total_matches = df_match.count()\n",
    "print(f\"Total Matches Played: {total_matches}\")\n",
    "\n",
    "# Total Balls Bowled\n",
    "total_deliveries = df_deliveries.count()\n",
    "print(f\"Total Balls Bowled: {total_deliveries}\")\n"
   ]
  },
  {
   "cell_type": "code",
   "execution_count": 13,
   "id": "66a4b670-9869-41f4-adf0-5f1b0026b7ce",
   "metadata": {},
   "outputs": [
    {
     "data": {
      "text/plain": [
       "1095"
      ]
     },
     "execution_count": 13,
     "metadata": {},
     "output_type": "execute_result"
    }
   ],
   "source": [
    "df_match.count()"
   ]
  },
  {
   "cell_type": "code",
   "execution_count": 14,
   "id": "5b0a9923-6b69-4851-b123-58f4532df50f",
   "metadata": {},
   "outputs": [
    {
     "data": {
      "text/plain": [
       "260920"
      ]
     },
     "execution_count": 14,
     "metadata": {},
     "output_type": "execute_result"
    }
   ],
   "source": [
    "df_deliveries.count()"
   ]
  },
  {
   "cell_type": "markdown",
   "id": "024548d6-33d2-40fe-9639-3a4bb1932761",
   "metadata": {},
   "source": [
    "## 1️⃣ Total Matches Played per Season"
   ]
  },
  {
   "cell_type": "code",
   "execution_count": 15,
   "id": "aecdbf64-8b92-4470-a659-65b34f156cf6",
   "metadata": {},
   "outputs": [
    {
     "name": "stdout",
     "output_type": "stream",
     "text": [
      "+-------+------------+\n",
      "| season|Total_matchs|\n",
      "+-------+------------+\n",
      "|   2013|          76|\n",
      "|   2012|          74|\n",
      "|   2022|          74|\n",
      "|   2023|          74|\n",
      "|   2011|          73|\n",
      "|   2024|          71|\n",
      "|2009/10|          60|\n",
      "|   2016|          60|\n",
      "|   2019|          60|\n",
      "|   2014|          60|\n",
      "|2020/21|          60|\n",
      "|   2018|          60|\n",
      "|   2021|          60|\n",
      "|   2017|          59|\n",
      "|   2015|          59|\n",
      "|2007/08|          58|\n",
      "|   2009|          57|\n",
      "+-------+------------+\n",
      "\n"
     ]
    }
   ],
   "source": [
    "from pyspark.sql.functions import col, count\n",
    "\n",
    "total_matches_per_season = df_match.groupby(\"season\").agg(count(\"id\").alias(\"Total_matchs\"))\n",
    "total_matches_per_season.orderBy(col(\"Total_matchs\").desc()).show()"
   ]
  },
  {
   "cell_type": "markdown",
   "id": "5ada581d-e848-44d9-a9fd-836b6104a3f7",
   "metadata": {},
   "source": [
    "## 2️⃣ Total Matches Played in Each City "
   ]
  },
  {
   "cell_type": "code",
   "execution_count": 16,
   "id": "f83fe2c7-96f0-44f1-adf9-1249487c7013",
   "metadata": {},
   "outputs": [
    {
     "name": "stdout",
     "output_type": "stream",
     "text": [
      "+-------------+------------+\n",
      "|         city|Total_matchs|\n",
      "+-------------+------------+\n",
      "|       Mumbai|         173|\n",
      "|      Kolkata|          93|\n",
      "|        Delhi|          90|\n",
      "|      Chennai|          85|\n",
      "|    Hyderabad|          77|\n",
      "|    Bangalore|          65|\n",
      "|   Chandigarh|          61|\n",
      "|       Jaipur|          57|\n",
      "|           NA|          51|\n",
      "|         Pune|          51|\n",
      "|    Abu Dhabi|          37|\n",
      "|    Ahmedabad|          36|\n",
      "|    Bengaluru|          29|\n",
      "|       Durban|          15|\n",
      "|Visakhapatnam|          15|\n",
      "|      Lucknow|          14|\n",
      "|   Dharamsala|          13|\n",
      "|        Dubai|          13|\n",
      "|    Centurion|          12|\n",
      "|      Sharjah|          10|\n",
      "+-------------+------------+\n",
      "only showing top 20 rows\n",
      "\n"
     ]
    }
   ],
   "source": [
    "from pyspark.sql.functions import col, count\n",
    "\n",
    "total_matches_per_season = df_match.groupby(\"city\").agg(count(\"id\").alias(\"Total_matchs\"))\n",
    "total_matches_per_season.orderBy(col(\"Total_matchs\").desc()).show()"
   ]
  },
  {
   "cell_type": "markdown",
   "id": "7b98f4fd-1323-4a41-862c-ea5bb734af37",
   "metadata": {},
   "source": [
    "## 3️⃣ Most Successful Teams (by Wins)"
   ]
  },
  {
   "cell_type": "code",
   "execution_count": 17,
   "id": "bb2fe5ef-452b-4731-ac02-4fd703594f4d",
   "metadata": {},
   "outputs": [
    {
     "name": "stdout",
     "output_type": "stream",
     "text": [
      "most_successful_winner_teams: \n",
      "+--------------------+----------+\n",
      "|              winner|total_wins|\n",
      "+--------------------+----------+\n",
      "| Mumbai Indians (MI)|       144|\n",
      "|Chennai Super Kin...|       138|\n",
      "|Kolkata Knight Ri...|       131|\n",
      "|Royal Challengers...|       123|\n",
      "|Sunrisers Hyderab...|       117|\n",
      "| Delhi Capitals (DC)|       115|\n",
      "| Punjab Kings (PBKS)|       112|\n",
      "|Rajasthan Royals ...|       112|\n",
      "| Gujarat Titans (GT)|        41|\n",
      "|Pune Supergiants ...|        27|\n",
      "|Lucknow Super Gia...|        24|\n",
      "|Kochi Tuskers Ker...|         6|\n",
      "|                  NA|         5|\n",
      "+--------------------+----------+\n",
      "\n"
     ]
    }
   ],
   "source": [
    "from pyspark.sql.functions import col, count\n",
    "# count the number of wins for each team\n",
    "print(\"most_successful_winner_teams: \")\n",
    "most_successful_winner_teams = (df_match.groupby(\"winner\").agg(count(\"id\").alias(\"total_wins\"))).orderBy(col(\"total_wins\").desc()).show()\n"
   ]
  },
  {
   "cell_type": "markdown",
   "id": "8f94d354-2f45-41e2-97fd-f598b551cc22",
   "metadata": {},
   "source": [
    "## 4️⃣ Toss Decisions Breakdown (Bat/Field)  "
   ]
  },
  {
   "cell_type": "code",
   "execution_count": 18,
   "id": "3c4488fb-f08c-4aa0-abcb-e59710fadbc0",
   "metadata": {},
   "outputs": [
    {
     "name": "stdout",
     "output_type": "stream",
     "text": [
      "+-------------+-----------+\n",
      "|toss_decision|total_count|\n",
      "+-------------+-----------+\n",
      "|        field|        704|\n",
      "|          bat|        391|\n",
      "+-------------+-----------+\n",
      "\n"
     ]
    }
   ],
   "source": [
    "from pyspark.sql.functions import col, count\n",
    "total_decisions_count = (df_match.groupby(\"toss_decision\")\n",
    "                                                         .agg(count(\"id\").alias(\"total_count\"))\n",
    "                                                                                                ).orderBy(col(\"total_count\").desc()).show()\n",
    "#total_decisions_count.orderBy(col(\"total_count\").desc()).show()"
   ]
  },
  {
   "cell_type": "markdown",
   "id": "3ee0317a-4bc3-4004-a89e-4dd29e475a79",
   "metadata": {},
   "source": [
    "## 5️⃣ Most Toss Wins by a Team  "
   ]
  },
  {
   "cell_type": "code",
   "execution_count": 19,
   "id": "ef1c026f-639d-4a05-92a3-4e1641840ab5",
   "metadata": {},
   "outputs": [
    {
     "name": "stdout",
     "output_type": "stream",
     "text": [
      "most_toss_wins_team: \n",
      "+--------------------+---------------+\n",
      "|         toss_winner|total_toss_wins|\n",
      "+--------------------+---------------+\n",
      "|      Mumbai Indians|            143|\n",
      "| Chennai Super Kings|            122|\n",
      "|Kolkata Knight Ri...|            122|\n",
      "|    Rajasthan Royals|            120|\n",
      "|Royal Challengers...|            113|\n",
      "| Sunrisers Hyderabad|             88|\n",
      "|     Kings XI Punjab|             85|\n",
      "|    Delhi Daredevils|             80|\n",
      "|      Delhi Capitals|             50|\n",
      "|     Deccan Chargers|             43|\n",
      "|        Punjab Kings|             24|\n",
      "|      Gujarat Titans|             22|\n",
      "|       Pune Warriors|             20|\n",
      "|Lucknow Super Giants|             19|\n",
      "|       Gujarat Lions|             15|\n",
      "|Royal Challengers...|              8|\n",
      "|Kochi Tuskers Kerala|              8|\n",
      "|Rising Pune Super...|              7|\n",
      "|Rising Pune Super...|              6|\n",
      "+--------------------+---------------+\n",
      "\n"
     ]
    }
   ],
   "source": [
    "from pyspark.sql.functions import col, count\n",
    "print(\"most_toss_wins_team: \")\n",
    "most_toss_wins_team = (df_match.groupby(\"toss_winner\")\n",
    "                      .agg(count(\"id\").alias(\"total_toss_wins\"))\n",
    "                      .orderBy(col(\"total_toss_wins\").desc())\n",
    "                      ).show()"
   ]
  },
  {
   "cell_type": "markdown",
   "id": "61b1217c-9eeb-46b8-9d8b-1e8d1be4d92c",
   "metadata": {},
   "source": [
    "## 6️⃣ Matches Won by Toss-Winning Teams"
   ]
  },
  {
   "cell_type": "code",
   "execution_count": 20,
   "id": "ca179a3a-399b-48f3-b3cd-73b999d58717",
   "metadata": {},
   "outputs": [
    {
     "name": "stdout",
     "output_type": "stream",
     "text": [
      "+-----------+--------------------------+\n",
      "|toss_winner|matches_won_after_toss_win|\n",
      "+-----------+--------------------------+\n",
      "+-----------+--------------------------+\n",
      "\n"
     ]
    }
   ],
   "source": [
    "from pyspark.sql.functions import col, count\n",
    "\n",
    "# Count matches where toss winner also won the match\n",
    "toss_win_match_win = (df_match.filter(col(\"toss_winner\") == col(\"winner\"))\n",
    "                      .groupBy(\"toss_winner\")\n",
    "                      .agg(count(\"id\").alias(\"matches_won_after_toss_win\"))\n",
    "                      .orderBy(col(\"matches_won_after_toss_win\").desc())  # Sort in descending order\n",
    "                     )\n",
    "\n",
    "# Display the result\n",
    "toss_win_match_win.show()\n"
   ]
  },
  {
   "cell_type": "markdown",
   "id": "44f9ba21-9966-4523-842b-effd8a3a5063",
   "metadata": {},
   "source": [
    "## 7️⃣ Teams Winning After Batting First vs Chasing"
   ]
  },
  {
   "cell_type": "code",
   "execution_count": 21,
   "id": "8c7d639f-cb46-4b87-bd24-2d694bde2792",
   "metadata": {},
   "outputs": [
    {
     "name": "stdout",
     "output_type": "stream",
     "text": [
      "+--------------------+--------------+----------+\n",
      "|              winner|bat_first_wins|chase_wins|\n",
      "+--------------------+--------------+----------+\n",
      "|Chennai Super Kin...|            63|        75|\n",
      "| Mumbai Indians (MI)|            54|        90|\n",
      "|Kolkata Knight Ri...|            50|        81|\n",
      "|Sunrisers Hyderab...|            44|        73|\n",
      "|Rajasthan Royals ...|            43|        69|\n",
      "| Delhi Capitals (DC)|            42|        73|\n",
      "|Royal Challengers...|            38|        85|\n",
      "| Punjab Kings (PBKS)|            28|        84|\n",
      "| Gujarat Titans (GT)|            11|        30|\n",
      "|Pune Supergiants ...|            11|        16|\n",
      "|Lucknow Super Gia...|             6|        18|\n",
      "|                  NA|             1|         4|\n",
      "|Kochi Tuskers Ker...|             0|         6|\n",
      "+--------------------+--------------+----------+\n",
      "\n"
     ]
    }
   ],
   "source": [
    "from pyspark.sql.functions import col, count\n",
    "\n",
    "# Count matches won by teams that batted first\n",
    "bat_first_wins = (df_match.filter(col(\"toss_decision\") == \"bat\")\n",
    "                  .groupBy(\"winner\")\n",
    "                  .agg(count(\"id\").alias(\"bat_first_wins\"))\n",
    "                 )\n",
    "\n",
    "# Count matches won by teams that chased\n",
    "chase_wins = (df_match.filter(col(\"toss_decision\") == \"field\")\n",
    "              .groupBy(\"winner\")\n",
    "              .agg(count(\"id\").alias(\"chase_wins\"))\n",
    "             )\n",
    "\n",
    "# Join both DataFrames on \"winner\" to compare side by side\n",
    "team_win_comparison = (bat_first_wins.join(chase_wins, \"winner\", \"outer\")\n",
    "                       .fillna(0)  # Fill missing values with 0\n",
    "                       .orderBy(col(\"bat_first_wins\").desc())  # Order by teams with most batting first wins\n",
    "                      )\n",
    "\n",
    "# Display the result\n",
    "team_win_comparison.show()\n"
   ]
  },
  {
   "cell_type": "markdown",
   "id": "99a57bf8-e486-4995-8bdf-9e0df6aebb96",
   "metadata": {},
   "source": [
    "## 8️⃣ Biggest Win by Runs in IPL History "
   ]
  },
  {
   "cell_type": "code",
   "execution_count": 22,
   "id": "ca340654-7fbe-489e-97fe-45ef5e840155",
   "metadata": {},
   "outputs": [
    {
     "name": "stdout",
     "output_type": "stream",
     "text": [
      "+------+-------+-----+----------+----------+---------------+----------------+----------------+--------------+----------------+-------------+-------------------+------+-------------+-----------+------------+----------+------+-----------+-----------+\n",
      "|id    |season |city |date      |match_type|player_of_match|venue           |team1           |team2         |toss_winner     |toss_decision|winner             |result|result_margin|target_runs|target_overs|super_over|method|umpire1    |umpire2    |\n",
      "+------+-------+-----+----------+----------+---------------+----------------+----------------+--------------+----------------+-------------+-------------------+------+-------------+-----------+------------+----------+------+-----------+-----------+\n",
      "|419114|2009/10|Delhi|17-03-2010|League    |SR Tendulkar   |Feroz Shah Kotla|Delhi Daredevils|Mumbai Indians|Delhi Daredevils|field        |Mumbai Indians (MI)|runs  |98           |219        |20          |N         |NA    |BR Doctrove|SK Tarapore|\n",
      "+------+-------+-----+----------+----------+---------------+----------------+----------------+--------------+----------------+-------------+-------------------+------+-------------+-----------+------------+----------+------+-----------+-----------+\n",
      "\n"
     ]
    }
   ],
   "source": [
    "from pyspark.sql.functions import col\n",
    "\n",
    "# Find the match with the highest result_margin (runs)\n",
    "biggest_win_by_runs = (df_match.filter(col(\"result\") == \"runs\")  # Consider only matches won by runs\n",
    "                       .orderBy(col(\"result_margin\").desc())  # Sort by result_margin in descending order\n",
    "                       .limit(1)  # Get the top record\n",
    "                      )\n",
    "\n",
    "# Display the result\n",
    "biggest_win_by_runs.show(truncate=False)\n"
   ]
  },
  {
   "cell_type": "markdown",
   "id": "23aeac1a-08de-47ea-abdb-436840d1a9d2",
   "metadata": {},
   "source": [
    "## 9️⃣ Highest Successful Run Chases  "
   ]
  },
  {
   "cell_type": "code",
   "execution_count": 23,
   "id": "0950cdda-a8a6-47ae-a395-c08f8446c22c",
   "metadata": {},
   "outputs": [
    {
     "data": {
      "text/html": [
       "<div>\n",
       "<style scoped>\n",
       "    .dataframe tbody tr th:only-of-type {\n",
       "        vertical-align: middle;\n",
       "    }\n",
       "\n",
       "    .dataframe tbody tr th {\n",
       "        vertical-align: top;\n",
       "    }\n",
       "\n",
       "    .dataframe thead th {\n",
       "        text-align: right;\n",
       "    }\n",
       "</style>\n",
       "<table border=\"1\" class=\"dataframe\">\n",
       "  <thead>\n",
       "    <tr style=\"text-align: right;\">\n",
       "      <th></th>\n",
       "      <th>id</th>\n",
       "      <th>season</th>\n",
       "      <th>city</th>\n",
       "      <th>date</th>\n",
       "      <th>match_type</th>\n",
       "      <th>player_of_match</th>\n",
       "      <th>venue</th>\n",
       "      <th>team1</th>\n",
       "      <th>team2</th>\n",
       "      <th>toss_winner</th>\n",
       "      <th>toss_decision</th>\n",
       "      <th>winner</th>\n",
       "      <th>result</th>\n",
       "      <th>result_margin</th>\n",
       "      <th>target_runs</th>\n",
       "      <th>target_overs</th>\n",
       "      <th>super_over</th>\n",
       "      <th>method</th>\n",
       "      <th>umpire1</th>\n",
       "      <th>umpire2</th>\n",
       "    </tr>\n",
       "  </thead>\n",
       "  <tbody>\n",
       "    <tr>\n",
       "      <th>0</th>\n",
       "      <td>335984</td>\n",
       "      <td>2007/08</td>\n",
       "      <td>Delhi</td>\n",
       "      <td>19-04-2008</td>\n",
       "      <td>League</td>\n",
       "      <td>MF Maharoof</td>\n",
       "      <td>Feroz Shah Kotla</td>\n",
       "      <td>Delhi Daredevils</td>\n",
       "      <td>Rajasthan Royals</td>\n",
       "      <td>Rajasthan Royals</td>\n",
       "      <td>bat</td>\n",
       "      <td>Delhi Capitals (DC)</td>\n",
       "      <td>wickets</td>\n",
       "      <td>9</td>\n",
       "      <td>130</td>\n",
       "      <td>20</td>\n",
       "      <td>N</td>\n",
       "      <td>NA</td>\n",
       "      <td>Aleem Dar</td>\n",
       "      <td>GA Pratapkumar</td>\n",
       "    </tr>\n",
       "    <tr>\n",
       "      <th>1</th>\n",
       "      <td>335988</td>\n",
       "      <td>2007/08</td>\n",
       "      <td>Hyderabad</td>\n",
       "      <td>22-04-2008</td>\n",
       "      <td>League</td>\n",
       "      <td>V Sehwag</td>\n",
       "      <td>Rajiv Gandhi International Stadium, Uppal</td>\n",
       "      <td>Deccan Chargers</td>\n",
       "      <td>Delhi Daredevils</td>\n",
       "      <td>Deccan Chargers</td>\n",
       "      <td>bat</td>\n",
       "      <td>Delhi Capitals (DC)</td>\n",
       "      <td>wickets</td>\n",
       "      <td>9</td>\n",
       "      <td>143</td>\n",
       "      <td>20</td>\n",
       "      <td>N</td>\n",
       "      <td>NA</td>\n",
       "      <td>IL Howell</td>\n",
       "      <td>AM Saheba</td>\n",
       "    </tr>\n",
       "    <tr>\n",
       "      <th>2</th>\n",
       "      <td>335993</td>\n",
       "      <td>2007/08</td>\n",
       "      <td>Chennai</td>\n",
       "      <td>26-04-2008</td>\n",
       "      <td>League</td>\n",
       "      <td>JDP Oram</td>\n",
       "      <td>MA Chidambaram Stadium, Chepauk</td>\n",
       "      <td>Chennai Super Kings</td>\n",
       "      <td>Kolkata Knight Riders</td>\n",
       "      <td>Kolkata Knight Riders</td>\n",
       "      <td>bat</td>\n",
       "      <td>Chennai Super Kings (CSK)</td>\n",
       "      <td>wickets</td>\n",
       "      <td>9</td>\n",
       "      <td>148</td>\n",
       "      <td>20</td>\n",
       "      <td>N</td>\n",
       "      <td>NA</td>\n",
       "      <td>BF Bowden</td>\n",
       "      <td>AV Jayaprakash</td>\n",
       "    </tr>\n",
       "    <tr>\n",
       "      <th>3</th>\n",
       "      <td>336016</td>\n",
       "      <td>2007/08</td>\n",
       "      <td>Chandigarh</td>\n",
       "      <td>12-05-2008</td>\n",
       "      <td>League</td>\n",
       "      <td>SE Marsh</td>\n",
       "      <td>Punjab Cricket Association Stadium, Mohali</td>\n",
       "      <td>Kings XI Punjab</td>\n",
       "      <td>Royal Challengers Bangalore</td>\n",
       "      <td>Royal Challengers Bangalore</td>\n",
       "      <td>bat</td>\n",
       "      <td>Punjab Kings (PBKS)</td>\n",
       "      <td>wickets</td>\n",
       "      <td>9</td>\n",
       "      <td>144</td>\n",
       "      <td>20</td>\n",
       "      <td>N</td>\n",
       "      <td>NA</td>\n",
       "      <td>BR Doctrove</td>\n",
       "      <td>I Shivram</td>\n",
       "    </tr>\n",
       "    <tr>\n",
       "      <th>4</th>\n",
       "      <td>336018</td>\n",
       "      <td>2007/08</td>\n",
       "      <td>Mumbai</td>\n",
       "      <td>14-05-2008</td>\n",
       "      <td>League</td>\n",
       "      <td>ST Jayasuriya</td>\n",
       "      <td>Wankhede Stadium</td>\n",
       "      <td>Mumbai Indians</td>\n",
       "      <td>Chennai Super Kings</td>\n",
       "      <td>Mumbai Indians</td>\n",
       "      <td>field</td>\n",
       "      <td>Mumbai Indians (MI)</td>\n",
       "      <td>wickets</td>\n",
       "      <td>9</td>\n",
       "      <td>157</td>\n",
       "      <td>20</td>\n",
       "      <td>N</td>\n",
       "      <td>NA</td>\n",
       "      <td>BR Doctrove</td>\n",
       "      <td>AM Saheba</td>\n",
       "    </tr>\n",
       "  </tbody>\n",
       "</table>\n",
       "</div>"
      ],
      "text/plain": [
       "       id   season        city        date match_type player_of_match  \\\n",
       "0  335984  2007/08       Delhi  19-04-2008     League     MF Maharoof   \n",
       "1  335988  2007/08   Hyderabad  22-04-2008     League        V Sehwag   \n",
       "2  335993  2007/08     Chennai  26-04-2008     League        JDP Oram   \n",
       "3  336016  2007/08  Chandigarh  12-05-2008     League        SE Marsh   \n",
       "4  336018  2007/08      Mumbai  14-05-2008     League   ST Jayasuriya   \n",
       "\n",
       "                                        venue                team1  \\\n",
       "0                            Feroz Shah Kotla     Delhi Daredevils   \n",
       "1   Rajiv Gandhi International Stadium, Uppal      Deccan Chargers   \n",
       "2             MA Chidambaram Stadium, Chepauk  Chennai Super Kings   \n",
       "3  Punjab Cricket Association Stadium, Mohali      Kings XI Punjab   \n",
       "4                            Wankhede Stadium       Mumbai Indians   \n",
       "\n",
       "                         team2                  toss_winner toss_decision  \\\n",
       "0             Rajasthan Royals             Rajasthan Royals           bat   \n",
       "1             Delhi Daredevils              Deccan Chargers           bat   \n",
       "2        Kolkata Knight Riders        Kolkata Knight Riders           bat   \n",
       "3  Royal Challengers Bangalore  Royal Challengers Bangalore           bat   \n",
       "4          Chennai Super Kings               Mumbai Indians         field   \n",
       "\n",
       "                      winner   result result_margin target_runs target_overs  \\\n",
       "0        Delhi Capitals (DC)  wickets             9         130           20   \n",
       "1        Delhi Capitals (DC)  wickets             9         143           20   \n",
       "2  Chennai Super Kings (CSK)  wickets             9         148           20   \n",
       "3        Punjab Kings (PBKS)  wickets             9         144           20   \n",
       "4        Mumbai Indians (MI)  wickets             9         157           20   \n",
       "\n",
       "  super_over method      umpire1         umpire2  \n",
       "0          N     NA    Aleem Dar  GA Pratapkumar  \n",
       "1          N     NA    IL Howell       AM Saheba  \n",
       "2          N     NA    BF Bowden  AV Jayaprakash  \n",
       "3          N     NA  BR Doctrove       I Shivram  \n",
       "4          N     NA  BR Doctrove       AM Saheba  "
      ]
     },
     "metadata": {},
     "output_type": "display_data"
    }
   ],
   "source": [
    "import pandas as pd\n",
    "from pyspark.sql.functions import col\n",
    "\n",
    "# Filter matches where the result is based on runs (successful chases)\n",
    "highest_chases = (df_match.filter((col(\"result\") == \"wickets\") & (col(\"result_margin\").isNotNull()))\n",
    "                  .orderBy(col(\"result_margin\").desc())  # Sort by highest wickets\n",
    "                  .limit(5)  # Get top 5 highest successful chases\n",
    "                 )\n",
    "\n",
    "# Display the result using pandas dataframe for bertter understanding\n",
    "# Convert PySpark DataFrame to Pandas for visualization\n",
    "highest_chases_pd = highest_chases.toPandas()\n",
    "\n",
    "# Display the Pandas DataFrame in a Jupyter Notebook (visual table)\n",
    "from IPython.display import display\n",
    "display(highest_chases_pd)\n",
    "\n",
    "# otherwise we can use pyspark method ................\n",
    "# highest_chases.show(truncate=False)\n"
   ]
  },
  {
   "cell_type": "markdown",
   "id": "56fe5687-e6bb-48bd-9b7c-ffb1e66cd1d8",
   "metadata": {},
   "source": [
    "## 🔟 Most Player of the Match Awards (Top 10)"
   ]
  },
  {
   "cell_type": "code",
   "execution_count": 24,
   "id": "5f871d97-ee0a-45c1-9684-1571a13c1f30",
   "metadata": {},
   "outputs": [
    {
     "name": "stderr",
     "output_type": "stream",
     "text": [
      "C:\\Users\\Monoj Das\\AppData\\Roaming\\Python\\Python313\\site-packages\\IPython\\core\\pylabtools.py:170: UserWarning: Glyph 127942 (\\N{TROPHY}) missing from font(s) DejaVu Sans.\n",
      "  fig.canvas.print_figure(bytes_io, **kw)\n"
     ]
    },
    {
     "data": {
      "image/png": "[encoded data removed]",
      "text/plain": [
       "<Figure size 1200x600 with 1 Axes>"
      ]
     },
     "metadata": {},
     "output_type": "display_data"
    }
   ],
   "source": [
    "import pandas as pd \n",
    "import matplotlib.pyplot as plt \n",
    "\n",
    "from pyspark.sql.functions import col, count\n",
    "# count number of times each player won \"man of the match\"\n",
    "top_10_players = (df_match.groupby(\"player_of_match\")\n",
    "                .agg(count(\"id\").alias(\"awards_count\"))\n",
    "                .orderBy(col(\"awards_count\").desc())\n",
    "                .limit(10))\n",
    "\n",
    "top_players_pd = top_10_players.toPandas()\n",
    "# Plot a horizontal bar chart\n",
    "plt.figure(figsize=(12, 6))\n",
    "bars = plt.barh(top_players_pd[\"player_of_match\"], top_players_pd[\"awards_count\"], color=\"orange\")\n",
    "\n",
    "# Add text labels on each bar\n",
    "for bar, label in zip(bars, top_players_pd[\"awards_count\"]):\n",
    "    plt.text(bar.get_width() + 1, bar.get_y() + bar.get_height()/2, str(label), va='center', fontsize=12)\n",
    "\n",
    "# Customize plot aesthetics\n",
    "plt.xlabel(\"Awards Count\", fontsize=14)\n",
    "plt.ylabel(\"Player Name\", fontsize=14)\n",
    "plt.title(\"🏆 Top 10 Players with Most Player of the Match Awards in IPL (2008 - 2024)\", fontsize=16)\n",
    "plt.gca().invert_yaxis()  # Invert y-axis for better readability\n",
    "plt.grid(axis=\"x\", linestyle=\"--\", alpha=0.7)\n",
    "\n",
    "# Show the plot\n",
    "plt.show()\n",
    "\n"
   ]
  },
  {
   "cell_type": "code",
   "execution_count": 25,
   "id": "ac71f051-fd50-4d43-a007-83d1a55f0690",
   "metadata": {},
   "outputs": [
    {
     "data": {
      "text/plain": [
       "['id',\n",
       " 'season',\n",
       " 'city',\n",
       " 'date',\n",
       " 'match_type',\n",
       " 'player_of_match',\n",
       " 'venue',\n",
       " 'team1',\n",
       " 'team2',\n",
       " 'toss_winner',\n",
       " 'toss_decision',\n",
       " 'winner',\n",
       " 'result',\n",
       " 'result_margin',\n",
       " 'target_runs',\n",
       " 'target_overs',\n",
       " 'super_over',\n",
       " 'method',\n",
       " 'umpire1',\n",
       " 'umpire2']"
      ]
     },
     "execution_count": 25,
     "metadata": {},
     "output_type": "execute_result"
    }
   ],
   "source": [
    "df_match.columns"
   ]
  },
  {
   "cell_type": "code",
   "execution_count": 26,
   "id": "bb7de971-f019-4d46-ab04-2d4c750d7f0f",
   "metadata": {},
   "outputs": [
    {
     "name": "stdout",
     "output_type": "stream",
     "text": [
      "+--------------------+\n",
      "|              winner|\n",
      "+--------------------+\n",
      "|Lucknow Super Gia...|\n",
      "|Kolkata Knight Ri...|\n",
      "|Royal Challengers...|\n",
      "|                  NA|\n",
      "|Pune Supergiants ...|\n",
      "| Delhi Capitals (DC)|\n",
      "|Chennai Super Kin...|\n",
      "| Gujarat Titans (GT)|\n",
      "|Sunrisers Hyderab...|\n",
      "| Mumbai Indians (MI)|\n",
      "| Punjab Kings (PBKS)|\n",
      "|Kochi Tuskers Ker...|\n",
      "|Rajasthan Royals ...|\n",
      "+--------------------+\n",
      "\n"
     ]
    }
   ],
   "source": [
    "df_match.select(\"winner\").distinct().show()"
   ]
  },
  {
   "cell_type": "code",
   "execution_count": 27,
   "id": "00374ea5-764d-4c26-815e-ca46f65e0e9e",
   "metadata": {},
   "outputs": [
    {
     "name": "stdout",
     "output_type": "stream",
     "text": [
      "+-------+------+---------+----------+----------+---------------+---------------------------------------------------------------------+---------------------------+-------------------+---------------------------+-------------+------+---------+-------------+-----------+------------+----------+------+---------------+-------------+\n",
      "|id     |season|city     |date      |match_type|player_of_match|venue                                                                |team1                      |team2              |toss_winner                |toss_decision|winner|result   |result_margin|target_runs|target_overs|super_over|method|umpire1        |umpire2      |\n",
      "+-------+------+---------+----------+----------+---------------+---------------------------------------------------------------------+---------------------------+-------------------+---------------------------+-------------+------+---------+-------------+-----------+------------+----------+------+---------------+-------------+\n",
      "|501265 |2011  |Delhi    |21-05-2011|League    |NA             |Feroz Shah Kotla                                                     |Delhi Daredevils           |Pune Warriors      |Delhi Daredevils           |bat          |NA    |no result|NA           |NA         |NA          |N         |NA    |SS Hazare      |RJ Tucker    |\n",
      "|829763 |2015  |Bangalore|29-04-2015|League    |NA             |M Chinnaswamy Stadium                                                |Royal Challengers Bangalore|Rajasthan Royals   |Rajasthan Royals           |field        |NA    |no result|NA           |NA         |NA          |N         |NA    |JD Cloete      |PG Pathak    |\n",
      "|829813 |2015  |Bangalore|17-05-2015|League    |NA             |M Chinnaswamy Stadium                                                |Royal Challengers Bangalore|Delhi Daredevils   |Royal Challengers Bangalore|field        |NA    |no result|NA           |188        |20          |N         |NA    |HDPK Dharmasena|K Srinivasan |\n",
      "|1178424|2019  |Bengaluru|30-04-2019|League    |NA             |M.Chinnaswamy Stadium                                                |Royal Challengers Bangalore|Rajasthan Royals   |Rajasthan Royals           |field        |NA    |no result|NA           |63         |5           |N         |NA    |NJ Llong       |UV Gandhe    |\n",
      "|1359519|2023  |Lucknow  |03-05-2023|League    |NA             |Bharat Ratna Shri Atal Bihari Vajpayee Ekana Cricket Stadium, Lucknow|Lucknow Super Giants       |Chennai Super Kings|Chennai Super Kings        |field        |NA    |no result|NA           |NA         |NA          |N         |NA    |AK Chaudhary   |NA Patwardhan|\n",
      "+-------+------+---------+----------+----------+---------------+---------------------------------------------------------------------+---------------------------+-------------------+---------------------------+-------------+------+---------+-------------+-----------+------------+----------+------+---------------+-------------+\n",
      "\n"
     ]
    }
   ],
   "source": [
    "df_match.filter(col(\"winner\") == \"NA\").show(truncate=False)\n"
   ]
  },
  {
   "cell_type": "code",
   "execution_count": 28,
   "id": "8cf02fc4-6e04-48ab-91e8-eea3731162d7",
   "metadata": {},
   "outputs": [
    {
     "name": "stdout",
     "output_type": "stream",
     "text": [
      "root\n",
      " |-- id: integer (nullable = true)\n",
      " |-- season: string (nullable = true)\n",
      " |-- city: string (nullable = true)\n",
      " |-- date: string (nullable = true)\n",
      " |-- match_type: string (nullable = true)\n",
      " |-- player_of_match: string (nullable = true)\n",
      " |-- venue: string (nullable = true)\n",
      " |-- team1: string (nullable = true)\n",
      " |-- team2: string (nullable = true)\n",
      " |-- toss_winner: string (nullable = true)\n",
      " |-- toss_decision: string (nullable = true)\n",
      " |-- winner: string (nullable = true)\n",
      " |-- result: string (nullable = true)\n",
      " |-- result_margin: string (nullable = true)\n",
      " |-- target_runs: string (nullable = true)\n",
      " |-- target_overs: string (nullable = true)\n",
      " |-- super_over: string (nullable = true)\n",
      " |-- method: string (nullable = true)\n",
      " |-- umpire1: string (nullable = true)\n",
      " |-- umpire2: string (nullable = true)\n",
      "\n"
     ]
    }
   ],
   "source": [
    "df_match.printSchema()"
   ]
  },
  {
   "cell_type": "markdown",
   "id": "6371caec-07c7-4312-a055-c998a686d604",
   "metadata": {},
   "source": [
    "## 1️⃣1️⃣ Most Matches Played in a Venue"
   ]
  },
  {
   "cell_type": "code",
   "execution_count": 44,
   "id": "e10d7589-d976-4d26-bcd5-e9cb2b653bc3",
   "metadata": {},
   "outputs": [
    {
     "data": {
      "image/png": "[encoded data removed]",
      "text/plain": [
       "<Figure size 1200x600 with 1 Axes>"
      ]
     },
     "metadata": {},
     "output_type": "display_data"
    }
   ],
   "source": [
    "import numpy as np \n",
    "import pandas as pd \n",
    "import matplotlib.pyplot as plt \n",
    "from pyspark.sql.functions import col, count\n",
    "# Count number of matches at each venue \n",
    "most_matches_venue = (\n",
    "    df_match.groupby(\"venue\")\n",
    "    .agg(count(\"id\").alias(\"total_matches\"))\n",
    "    .orderBy(col(\"total_matches\").desc()) # short in desceding order\n",
    " )               #   if we see in pyspark data  yhen-------    .show(10, truncate= False)\n",
    "\n",
    "most_matches_venue_pd  = most_matches_venue.limit(10).toPandas()\n",
    "\n",
    "# plot a bar chart\n",
    "plt.figure(figsize=(12,6))\n",
    "\n",
    "plt.barh(most_matches_venue_pd[\"venue\"], most_matches_venue_pd[\"total_matches\"], color= \"skyblue\")\n",
    "\n",
    "# Labels and Title \n",
    "plt.xlabel(\"Total Matches\")\n",
    "plt.ylabel(\"Venue\")\n",
    "plt.title(\"Top 10 Venue with Most IPL matches\")\n",
    "plt.gca().invert_yaxis()\n",
    "# show plot \n",
    "plt.show()\n",
    "\n",
    "\n",
    "\n",
    "\n",
    "\n"
   ]
  },
  {
   "cell_type": "markdown",
   "id": "5cc68047-ca4d-49df-91df-75839867d777",
   "metadata": {},
   "source": [
    "## 1️⃣2️⃣ Number of Matches with Super Over"
   ]
  },
  {
   "cell_type": "code",
   "execution_count": 49,
   "id": "c07da4c6-11a2-4fe0-a970-c962b6a00d84",
   "metadata": {},
   "outputs": [
    {
     "name": "stdout",
     "output_type": "stream",
     "text": [
      "+------------------+\n",
      "|super_over_matches|\n",
      "+------------------+\n",
      "|                 0|\n",
      "+------------------+\n",
      "\n"
     ]
    }
   ],
   "source": [
    "from pyspark.sql.functions import col, count\n",
    "\n",
    "# Count matches where ssuper_over is 1 (indication Super Over is ptop_players_pd)\n",
    "super_over_matches = (\n",
    "    df_match.filter(col(\"super_over\") == \"1\")\n",
    "    .agg(count(\"id\").alias(\"super_over_matches\"))\n",
    ").show()"
   ]
  },
  {
   "cell_type": "markdown",
   "id": "2feb39f5-c963-43b3-9eb3-a27176616f65",
   "metadata": {},
   "source": [
    "## 1️⃣3️⃣ Top Umpires Who Officiated the Most Matches"
   ]
  },
  {
   "cell_type": "code",
   "execution_count": 67,
   "id": "bdb6f8eb-9c47-49cb-b6fb-cdd84cbe59af",
   "metadata": {},
   "outputs": [
    {
     "name": "stdout",
     "output_type": "stream",
     "text": [
      "+--------------------+-------------+\n",
      "|              umpire|total_matches|\n",
      "+--------------------+-------------+\n",
      "|           BF Bowden|            2|\n",
      "|        AK Chaudhary|            2|\n",
      "|              S Ravi|            2|\n",
      "|            SJ Davis|            2|\n",
      "|           JD Cloete|            2|\n",
      "|            MA Gough|            2|\n",
      "|MV Saidharshan Kumar|            2|\n",
      "|          SL Shastri|            2|\n",
      "|       Navdeep Singh|            2|\n",
      "|        Vinod Seshan|            2|\n",
      "+--------------------+-------------+\n",
      "\n"
     ]
    }
   ],
   "source": [
    "from pyspark.sql.functions import col, count\n",
    "\n",
    "# Count matches officiated by each umpire (umpire1 and umpire2)\n",
    "umpire1_counts = df_match.groupBy(\"umpire1\").agg(count(\"id\").alias(\"match_count\"))\n",
    "umpire2_counts = df_match.groupBy(\"umpire2\").agg(count(\"id\").alias(\"match_count\"))\n",
    "\n",
    "# Rename columns for clarity\n",
    "umpire1_counts = umpire1_counts.withColumnRenamed(\"umpire1\", \"umpire\")\n",
    "umpire2_counts = umpire2_counts.withColumnRenamed(\"umpire2\", \"umpire\")\n",
    "\n",
    "# Combine both umpire lists\n",
    "total_umpire_counts = umpire1_counts.union(umpire2_counts)\n",
    "\n",
    "# Group by umpire name to get total matches officiated\n",
    "top_umpires = (\n",
    "    total_umpire_counts.groupBy(\"umpire\")\n",
    "    .agg(count(\"match_count\").alias(\"total_matches\"))\n",
    "    .orderBy(col(\"total_matches\").desc())\n",
    "    .limit(10)  # Get top 10 umpires\n",
    ")\n",
    "\n",
    "# Show the top 10 umpires\n",
    "top_umpires.show()\n"
   ]
  },
  {
   "cell_type": "code",
   "execution_count": 66,
   "id": "a5a359fc-644e-4a4b-8767-74b945d1322c",
   "metadata": {},
   "outputs": [
    {
     "data": {
      "image/png": "[encoded data removed]",
      "text/plain": [
       "<Figure size 1000x500 with 1 Axes>"
      ]
     },
     "metadata": {},
     "output_type": "display_data"
    }
   ],
   "source": [
    "import pandas as pd\n",
    "import matplotlib.pyplot as plt\n",
    "\n",
    "# Convert PySpark DataFrame to Pandas for visualization\n",
    "top_umpires_pd = top_umpires.toPandas()\n",
    "\n",
    "# Plot a horizontal bar chart\n",
    "plt.figure(figsize=(10, 5))\n",
    "plt.barh(top_umpires_pd[\"umpire\"], top_umpires_pd[\"total_matches\"], color=\"purple\")\n",
    "\n",
    "# Labels and Title\n",
    "plt.xlabel(\"Total Matches Officiated\")\n",
    "plt.ylabel(\"Umpire Name\")\n",
    "plt.title(\"Top 10 Umpires with Most Matches in IPL\")\n",
    "\n",
    "# Invert y-axis for better readability\n",
    "plt.gca().invert_yaxis()\n",
    "\n",
    "# Show the plot\n",
    "plt.show()\n"
   ]
  },
  {
   "cell_type": "markdown",
   "id": "4152c564-3984-4367-abfd-1a0f69280302",
   "metadata": {},
   "source": [
    "## 1️⃣4️⃣ Players Who Scored Most Runs in IPL (Top 10)"
   ]
  },
  {
   "cell_type": "code",
   "execution_count": 68,
   "id": "70506967-79c0-4ac0-a4f7-f705839d7839",
   "metadata": {},
   "outputs": [
    {
     "name": "stdout",
     "output_type": "stream",
     "text": [
      "+--------------+----------+\n",
      "|        batter|total_runs|\n",
      "+--------------+----------+\n",
      "|       V Kohli|      8014|\n",
      "|      S Dhawan|      6769|\n",
      "|     RG Sharma|      6630|\n",
      "|     DA Warner|      6567|\n",
      "|      SK Raina|      5536|\n",
      "|      MS Dhoni|      5243|\n",
      "|AB de Villiers|      5181|\n",
      "|      CH Gayle|      4997|\n",
      "|    RV Uthappa|      4954|\n",
      "|    KD Karthik|      4843|\n",
      "+--------------+----------+\n",
      "\n"
     ]
    }
   ],
   "source": [
    "from pyspark.sql.functions import col, sum\n",
    "\n",
    "# Aggregate total runs scored by each player\n",
    "top_scorers = (\n",
    "    df_deliveries.groupBy(\"batter\")\n",
    "    .agg(sum(\"batsman_runs\").alias(\"total_runs\"))\n",
    "    .orderBy(col(\"total_runs\").desc())  # Sort in descending order\n",
    "    .limit(10)  # Get top 10 players\n",
    ")\n",
    "\n",
    "# Show top 10 run scorers\n",
    "top_scorers.show()\n"
   ]
  },
  {
   "cell_type": "markdown",
   "id": "a701208a-5142-4b84-9e4e-0f5c88af6b4b",
   "metadata": {},
   "source": [
    "## 1️⃣5️⃣ Bowlers with Most Wickets in IPL (Top 10)"
   ]
  },
  {
   "cell_type": "code",
   "execution_count": 69,
   "id": "6237d0dd-8e64-466d-8314-cf02cba8e6a6",
   "metadata": {},
   "outputs": [
    {
     "name": "stdout",
     "output_type": "stream",
     "text": [
      "+----------+-------------+\n",
      "|    bowler|total_wickets|\n",
      "+----------+-------------+\n",
      "| YS Chahal|          205|\n",
      "| PP Chawla|          192|\n",
      "|  DJ Bravo|          183|\n",
      "|  R Ashwin|          181|\n",
      "|   B Kumar|          181|\n",
      "| SP Narine|          180|\n",
      "|  A Mishra|          174|\n",
      "|SL Malinga|          170|\n",
      "| JJ Bumrah|          168|\n",
      "| RA Jadeja|          160|\n",
      "+----------+-------------+\n",
      "\n"
     ]
    }
   ],
   "source": [
    "from pyspark.sql.functions import col, count\n",
    "\n",
    "# Filter deliveries where a wicket was taken (excluding run-outs)\n",
    "wickets_df = df_deliveries.filter((col(\"is_wicket\") == 1) & (col(\"dismissal_kind\") != \"run out\"))\n",
    "\n",
    "# Count total wickets taken by each bowler\n",
    "top_bowlers = (\n",
    "    wickets_df.groupBy(\"bowler\")\n",
    "    .agg(count(\"is_wicket\").alias(\"total_wickets\"))\n",
    "    .orderBy(col(\"total_wickets\").desc())  # Sort in descending order\n",
    "    .limit(10)  # Get top 10 bowlers\n",
    ")\n",
    "\n",
    "# Show top 10 wicket-takers\n",
    "top_bowlers.show()\n"
   ]
  },
  {
   "cell_type": "markdown",
   "id": "2af16484-3ac6-4453-82bc-6f94c4e47c86",
   "metadata": {},
   "source": [
    "## 1️⃣6️⃣ Batsmen with the Highest Strike Rate (Min 500 Balls)"
   ]
  },
  {
   "cell_type": "code",
   "execution_count": 70,
   "id": "dbbc6035-7794-4dd4-9539-affc94ab8ca3",
   "metadata": {},
   "outputs": [
    {
     "name": "stdout",
     "output_type": "stream",
     "text": [
      "+---------------+----------+-----------+------------------+\n",
      "|         batter|total_runs|total_balls|       strike_rate|\n",
      "+---------------+----------+-----------+------------------+\n",
      "|     AD Russell|      2488|       1515|164.22442244224422|\n",
      "|      H Klaasen|       993|        613|161.99021207177816|\n",
      "|      SP Narine|      1534|        984| 155.8943089430894|\n",
      "|       N Pooran|      1769|       1143| 154.7681539807524|\n",
      "| LS Livingstone|       939|        609| 154.1871921182266|\n",
      "|     GJ Maxwell|      2772|       1842| 150.4885993485342|\n",
      "|     RM Patidar|       799|        534|  149.625468164794|\n",
      "|Abhishek Sharma|      1377|        925|148.86486486486484|\n",
      "|       V Sehwag|      2728|       1833|148.82705946535734|\n",
      "| AB de Villiers|      5181|       3487|148.58044164037855|\n",
      "+---------------+----------+-----------+------------------+\n",
      "\n"
     ]
    }
   ],
   "source": [
    "from pyspark.sql.functions import col, sum, count\n",
    "\n",
    "# Calculate total runs and total balls faced by each batsman\n",
    "batsman_stats = (\n",
    "    df_deliveries.groupBy(\"batter\")\n",
    "    .agg(\n",
    "        sum(\"batsman_runs\").alias(\"total_runs\"),\n",
    "        count(\"ball\").alias(\"total_balls\")\n",
    "    )\n",
    ")\n",
    "\n",
    "# Filter players with at least 500 balls faced\n",
    "batsman_stats = batsman_stats.filter(col(\"total_balls\") >= 500)\n",
    "\n",
    "# Calculate strike rate: (runs / balls) * 100\n",
    "batsman_stats = batsman_stats.withColumn(\"strike_rate\", (col(\"total_runs\") / col(\"total_balls\")) * 100)\n",
    "\n",
    "# Sort by highest strike rate\n",
    "top_strike_rates = batsman_stats.orderBy(col(\"strike_rate\").desc()).limit(10)\n",
    "\n",
    "# Show top 10 batsmen with the highest strike rate\n",
    "top_strike_rates.show()\n"
   ]
  },
  {
   "cell_type": "markdown",
   "id": "d6a3db38-a4e5-4d9f-8f50-63bd01c0f141",
   "metadata": {},
   "source": [
    "## 1️⃣7️⃣ Batsmen with Most Sixes in IPL"
   ]
  },
  {
   "cell_type": "code",
   "execution_count": 71,
   "id": "90f58fd3-8721-4288-9103-d80767c876ee",
   "metadata": {},
   "outputs": [
    {
     "name": "stdout",
     "output_type": "stream",
     "text": [
      "+--------------+-----------+\n",
      "|        batter|total_sixes|\n",
      "+--------------+-----------+\n",
      "|      CH Gayle|        359|\n",
      "|     RG Sharma|        281|\n",
      "|       V Kohli|        273|\n",
      "|AB de Villiers|        253|\n",
      "|      MS Dhoni|        252|\n",
      "|     DA Warner|        236|\n",
      "|    KA Pollard|        224|\n",
      "|    AD Russell|        209|\n",
      "|     SV Samson|        206|\n",
      "|      SK Raina|        204|\n",
      "+--------------+-----------+\n",
      "\n"
     ]
    }
   ],
   "source": [
    "from pyspark.sql.functions import col, count\n",
    "\n",
    "# Filter deliveries where batsman hit a six (batsman_runs = 6)\n",
    "batsman_sixes = (\n",
    "    df_deliveries.filter(col(\"batsman_runs\") == 6)\n",
    "    .groupBy(\"batter\")\n",
    "    .agg(count(\"batsman_runs\").alias(\"total_sixes\"))\n",
    ")\n",
    "\n",
    "# Sort by most sixes in descending order\n",
    "top_six_hitters = batsman_sixes.orderBy(col(\"total_sixes\").desc()).limit(10)\n",
    "\n",
    "# Show the top 10 batsmen with most sixes\n",
    "top_six_hitters.show()\n"
   ]
  },
  {
   "cell_type": "markdown",
   "id": "eca0721d-f1d5-49b8-88fa-c9add3b4f97c",
   "metadata": {},
   "source": [
    "## 1️⃣8️⃣ Bowlers with Best Economy Rates (Min 100 Overs)"
   ]
  },
  {
   "cell_type": "code",
   "execution_count": 72,
   "id": "aad55469-a037-47be-8e2a-de47dff80942",
   "metadata": {},
   "outputs": [
    {
     "name": "stdout",
     "output_type": "stream",
     "text": [
      "+--------------+------------------+\n",
      "|        bowler|      economy_rate|\n",
      "+--------------+------------------+\n",
      "|      A Kumble| 6.646998982706002|\n",
      "|M Muralitharan| 6.698292220113852|\n",
      "|     SP Narine|6.7612156295224315|\n",
      "|      DW Steyn| 6.791411042944786|\n",
      "|    DL Vettori|  6.83312101910828|\n",
      "|   Rashid Khan| 6.907962771458118|\n",
      "|       J Botha| 6.922425952045134|\n",
      "|      R Ashwin| 6.969437914084206|\n",
      "|        MM Ali| 7.012987012987012|\n",
      "|    SL Malinga| 7.032952252858103|\n",
      "+--------------+------------------+\n",
      "\n"
     ]
    }
   ],
   "source": [
    "from pyspark.sql.functions import col, sum, count\n",
    "\n",
    "# Calculate total runs conceded and total overs bowled by each bowler\n",
    "bowler_stats = df_deliveries.groupBy(\"bowler\").agg(\n",
    "    sum(\"total_runs\").alias(\"runs_conceded\"),  # Sum of runs given\n",
    "    (count(\"ball\") / 6).alias(\"overs_bowled\")  # Convert balls to overs\n",
    ")\n",
    "\n",
    "# Filter bowlers who have bowled at least 100 overs\n",
    "qualified_bowlers = bowler_stats.filter(col(\"overs_bowled\") >= 100)\n",
    "\n",
    "# Calculate economy rate (Runs per Over)\n",
    "economy_bowlers = qualified_bowlers.withColumn(\n",
    "    \"economy_rate\", col(\"runs_conceded\") / col(\"overs_bowled\")\n",
    ")\n",
    "\n",
    "# Sort by best (lowest) economy rate\n",
    "top_economy_bowlers = economy_bowlers.orderBy(col(\"economy_rate\")).limit(10)\n",
    "\n",
    "# Show results\n",
    "top_economy_bowlers.select(\"bowler\", \"economy_rate\").show()\n"
   ]
  },
  {
   "cell_type": "markdown",
   "id": "3400b470-ce1c-4995-8fa2-2c302cb877c8",
   "metadata": {},
   "source": [
    "## 1️⃣9️⃣ Total Extra Runs Conceded by Each Team"
   ]
  },
  {
   "cell_type": "code",
   "execution_count": 73,
   "id": "e332a9b6-5966-4b7f-a51c-c8fcba3c463e",
   "metadata": {},
   "outputs": [
    {
     "name": "stdout",
     "output_type": "stream",
     "text": [
      "+--------------------+----------------+\n",
      "|        bowling_team|total_extra_runs|\n",
      "+--------------------+----------------+\n",
      "|      Mumbai Indians|            2295|\n",
      "|Royal Challengers...|            2040|\n",
      "|Kolkata Knight Ri...|            1957|\n",
      "|    Rajasthan Royals|            1917|\n",
      "| Chennai Super Kings|            1842|\n",
      "|     Kings XI Punjab|            1571|\n",
      "|    Delhi Daredevils|            1268|\n",
      "| Sunrisers Hyderabad|            1254|\n",
      "|      Delhi Capitals|             725|\n",
      "|     Deccan Chargers|             659|\n",
      "|        Punjab Kings|             480|\n",
      "|Lucknow Super Giants|             386|\n",
      "|       Pune Warriors|             335|\n",
      "|      Gujarat Titans|             295|\n",
      "|       Gujarat Lions|             188|\n",
      "|Royal Challengers...|             151|\n",
      "|Rising Pune Super...|             111|\n",
      "|Kochi Tuskers Kerala|             110|\n",
      "|Rising Pune Super...|             108|\n",
      "+--------------------+----------------+\n",
      "\n"
     ]
    }
   ],
   "source": [
    "from pyspark.sql.functions import col, sum\n",
    "\n",
    "# Group by bowling team and sum the extra runs\n",
    "extra_runs_by_team = (\n",
    "    df_deliveries.groupBy(\"bowling_team\")\n",
    "    .agg(sum(\"extra_runs\").alias(\"total_extra_runs\"))\n",
    "    .orderBy(col(\"total_extra_runs\").desc())  # Sort in descending order\n",
    ")\n",
    "\n",
    "# Show results\n",
    "extra_runs_by_team.show()\n"
   ]
  },
  {
   "cell_type": "markdown",
   "id": "70e6d0f0-028a-4372-9b3a-91fec7456e4f",
   "metadata": {},
   "source": [
    "###### ✅ PySpark + Matplotlib Code for Extra Runs Plot"
   ]
  },
  {
   "cell_type": "code",
   "execution_count": 76,
   "id": "d0fe449d-3f4e-482a-b5d4-f07a8128549a",
   "metadata": {},
   "outputs": [
    {
     "data": {
      "image/png": "[encoded data removed]",
      "text/plain": [
       "<Figure size 1200x600 with 1 Axes>"
      ]
     },
     "metadata": {},
     "output_type": "display_data"
    }
   ],
   "source": [
    "import matplotlib.pyplot as plt\n",
    "\n",
    "# Convert PySpark DataFrame to Pandas for visualization\n",
    "extra_runs_by_team_pd = extra_runs_by_team.toPandas()\n",
    "\n",
    "# Plot a bar chart\n",
    "plt.figure(figsize=(12, 6))\n",
    "plt.barh(extra_runs_by_team_pd[\"bowling_team\"], extra_runs_by_team_pd[\"total_extra_runs\"], color=\"blue\")\n",
    "\n",
    "# Labels and Title\n",
    "plt.xlabel(\"Total Extra Runs Conceded\")\n",
    "plt.ylabel(\"Bowling Team\")\n",
    "plt.title(\"Total Extra Runs Conceded by Each IPL Team\")\n",
    "plt.gca().invert_yaxis()  # Invert y-axis for better readability\n",
    "\n",
    "# Show plot\n",
    "plt.show()\n"
   ]
  },
  {
   "cell_type": "markdown",
   "id": "aa93a531-751b-4ef9-b424-0a35f4a9d5ff",
   "metadata": {},
   "source": [
    "## 2️⃣0️⃣ Most Common Modes of Dismissal in IPL"
   ]
  },
  {
   "cell_type": "code",
   "execution_count": 77,
   "id": "ed677555-7d67-4c06-8c6e-a6dcb4ee7c36",
   "metadata": {},
   "outputs": [
    {
     "name": "stdout",
     "output_type": "stream",
     "text": [
      "+--------------------+------+\n",
      "|      dismissal_kind| count|\n",
      "+--------------------+------+\n",
      "|                  NA|247970|\n",
      "|              caught|  8063|\n",
      "|              bowled|  2212|\n",
      "|             run out|  1114|\n",
      "|                 lbw|   800|\n",
      "|   caught and bowled|   367|\n",
      "|             stumped|   358|\n",
      "|          hit wicket|    15|\n",
      "|        retired hurt|    15|\n",
      "|obstructing the f...|     3|\n",
      "|         retired out|     3|\n",
      "+--------------------+------+\n",
      "\n"
     ]
    }
   ],
   "source": [
    "from pyspark.sql.functions import col, count\n",
    "\n",
    "# Count occurrences of each dismissal kind\n",
    "dismissal_modes = (\n",
    "    df_deliveries.groupBy(\"dismissal_kind\")\n",
    "    .agg(count(\"dismissal_kind\").alias(\"count\"))\n",
    "    .orderBy(col(\"count\").desc())\n",
    ")\n",
    "\n",
    "# Show results\n",
    "dismissal_modes.show()\n"
   ]
  },
  {
   "cell_type": "code",
   "execution_count": 79,
   "id": "d8cd29e2-373f-4ddc-9f37-da188a1e4c76",
   "metadata": {},
   "outputs": [
    {
     "data": {
      "image/png": "[encoded data removed]",
      "text/plain": [
       "<Figure size 1200x600 with 1 Axes>"
      ]
     },
     "metadata": {},
     "output_type": "display_data"
    }
   ],
   "source": [
    "import matplotlib.pyplot as plt\n",
    "\n",
    "\n",
    "# Convert PySpark DataFrame to Pandas for plotting\n",
    "dismissal_modes_pd = dismissal_modes.toPandas()\n",
    "# Set figure size\n",
    "plt.figure(figsize=(12, 6))\n",
    "\n",
    "# Create horizontal bar plot\n",
    "plt.barh(dismissal_modes_pd[\"dismissal_kind\"], dismissal_modes_pd[\"count\"], color=\"teal\")\n",
    "\n",
    "# Labels and Title\n",
    "plt.xlabel(\"Total Dismissals\")\n",
    "plt.ylabel(\"Mode of Dismissal\")\n",
    "plt.title(\"Most Common Modes of Dismissal in IPL\")\n",
    "\n",
    "# Invert y-axis for better readability\n",
    "plt.gca().invert_yaxis()\n",
    "\n",
    "# Show plot\n",
    "plt.show()\n"
   ]
  },
  {
   "cell_type": "markdown",
   "id": "44406e79-30cc-4884-aa8f-4410a998e153",
   "metadata": {},
   "source": [
    "# 🎯 **Conclusion: IPL Data Analysis Insights** 🏏  \n",
    "\n",
    "## 📌 **Key Takeaways from the Analysis**  \n",
    "\n",
    "1. **Total Matches Played Per Season 📊**  \n",
    "   - The IPL has witnessed a steady increase in the number of matches, indicating its growing popularity.  \n",
    "\n",
    "2. **Most Successful Teams 🏆**  \n",
    "   - Teams like **Mumbai Indians (MI)** and **Chennai Super Kings (CSK)** have consistently dominated the tournament in terms of victories.  \n",
    "\n",
    "3. **Toss Decisions & Impact 🏏**  \n",
    "   - The majority of teams prefer to **bowl first** after winning the toss, indicating a strategic inclination towards chasing.  \n",
    "\n",
    "4. **Highest Run Chases 🔥**  \n",
    "   - Some teams have successfully chased mammoth totals, proving the effectiveness of aggressive batting strategies.  \n",
    "\n",
    "5. **Biggest Wins by Runs 📈**  \n",
    "   - The largest victories in IPL history showcase the dominance of certain teams in specific matches.  \n",
    "\n",
    "6. **Most Player of the Match Awards 🌟**  \n",
    "   - Players like **Virat Kohli, AB de Villiers, and MS Dhoni** have consistently delivered match-winning performances.  \n",
    "\n",
    "7. **Batsmen & Bowlers' Performances ⚡**  \n",
    "   - The top batsmen with the highest strike rates and six-hitting abilities have played a key role in their teams’ successes.  \n",
    "   - Bowlers with the best economy rates and wicket-taking capabilities have been crucial in shaping match outcomes.  \n",
    "\n",
    "8. **Extra Runs & Dismissals ❌**  \n",
    "   - Extra runs conceded can be a game-changer, and teams need to focus on minimizing extras.  \n",
    "   - **Caught behind and bowled** remain the most common modes of dismissal in the IPL.  \n",
    "\n",
    "---\n",
    "\n",
    "## 🎯 **Final Thoughts**  \n",
    "\n",
    "This analysis of IPL data provides deep insights into team performances, player contributions, and match strategies. Such statistical evaluations not only help franchises make informed decisions but also enhance fan engagement by offering a data-driven perspective on the game.  \n",
    "\n",
    "🔥 **Cricket is unpredictable, but data never lies!** 🔥  \n",
    "\n",
    "---\n",
    "\n"
   ]
  }
 ],
 "metadata": {
  "kernelspec": {
   "display_name": "Python 3 (ipykernel)",
   "language": "python",
   "name": "python3"
  },
  "language_info": {
   "codemirror_mode": {
    "name": "ipython",
    "version": 3
   },
   "file_extension": ".py",
   "mimetype": "text/x-python",
   "name": "python",
   "nbconvert_exporter": "python",
   "pygments_lexer": "ipython3",
   "version": "3.13.1"
  }
 },
 "nbformat": 4,
 "nbformat_minor": 5
}
